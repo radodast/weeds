{
  "cells": [
    {
      "cell_type": "markdown",
      "source": [
        "# Подключение гугл диска и загрузка библиотек"
      ],
      "metadata": {
        "id": "8XAIrXEN6X6i"
      }
    },
    {
      "cell_type": "code",
      "source": [
        "from google.colab import drive\n",
        "drive.mount('/content/drive/')"
      ],
      "metadata": {
        "id": "EMUh2eZjDELy",
        "colab": {
          "base_uri": "https://localhost:8080/"
        },
        "outputId": "bfafdb90-e083-4e17-e2d0-bbf15fb94897"
      },
      "execution_count": null,
      "outputs": [
        {
          "output_type": "stream",
          "name": "stdout",
          "text": [
            "Mounted at /content/drive/\n"
          ]
        }
      ]
    },
    {
      "cell_type": "code",
      "source": [
        "# %cd /content/drive/My Drive/"
      ],
      "metadata": {
        "id": "GIoBgdacDFS9"
      },
      "execution_count": null,
      "outputs": []
    },
    {
      "cell_type": "code",
      "source": [
        "import numpy as np\n",
        "import cv2\n",
        "import pickle as pkl\n",
        "import math\n",
        "import torch\n",
        "import os\n",
        "import matplotlib.pyplot as plt\n",
        "import requests\n",
        "import tensorflow as tf\n",
        "import random\n",
        "import glob\n",
        "from tensorflow.keras.preprocessing.image import load_img, array_to_img, ImageDataGenerator, img_to_array\n",
        "from glob import glob\n",
        "from PIL import Image"
      ],
      "metadata": {
        "id": "ThA0NKT-4tWm"
      },
      "execution_count": null,
      "outputs": []
    },
    {
      "cell_type": "markdown",
      "source": [
        "# Предобработка фоток"
      ],
      "metadata": {
        "id": "ppuDZwmDzLwW"
      }
    },
    {
      "cell_type": "code",
      "source": [
        "# # В папке images1 - изначальные фотки сорняков\n",
        "# # В папке labels1 - размеченные фотки сорняков\n",
        "# def scale_resize_image(image):\n",
        "#     image = tf.image.convert_image_dtype(image, tf.float32) # equivalent to dividing image pixels by 255\n",
        "#     image = tf.image.resize(image, (640, 640)) # Resizing the image to 640x640 dimention\n",
        "#     return image\n",
        "\n",
        "\n",
        "# for pth in glob('/content/drive/MyDrive/осот/*.jpg'):\n",
        "#     with Image.open(pth) as im:\n",
        "#         new = scale_resize_image(im)._numpy()\n",
        "#         tf.keras.preprocessing.image.save_img(pth, new)"
      ],
      "metadata": {
        "id": "aeUclkZr39oV"
      },
      "execution_count": null,
      "outputs": []
    },
    {
      "cell_type": "code",
      "source": [
        "%cd /content/drive/MyDrive/финал/augmentation\n",
        "!unzip /content/drive/MyDrive/финал/augmentation/augmentat.zip"
      ],
      "metadata": {
        "colab": {
          "base_uri": "https://localhost:8080/"
        },
        "id": "ktsqoDIyLa1z",
        "outputId": "59f08b9d-4299-4684-b6f7-1b76f7ec63b7"
      },
      "execution_count": null,
      "outputs": [
        {
          "output_type": "stream",
          "name": "stdout",
          "text": [
            "/content/drive/MyDrive/финал/augmentation\n",
            "Archive:  /content/drive/MyDrive/финал/augmentation/augmentat.zip\n",
            "   creating: train/images/\n",
            "  inflating: train/images/-_-1_jpg.rf.95715c7480b376c793496dc2c32c9cef.jpg  \n",
            "  inflating: train/images/-_-10_jpg.rf.2e90cae178387db23bd105c971d92923.jpg  \n",
            "  inflating: train/images/-_-11_jpg.rf.7570116441de313ef26253b37ebfe5ad.jpg  \n",
            "  inflating: train/images/-_-12_jpg.rf.95f6eb37d4e1061addc8c4099d4a2656.jpg  \n",
            "  inflating: train/images/-_-13_jpg.rf.4c079f8f560b28c26696c224d7ef67ab.jpg  \n",
            "  inflating: train/images/-_-14_jpg.rf.b4f370995738b9161fb73f889f2ca760.jpg  \n",
            "  inflating: train/images/-_-15_jpg.rf.014335bf1070eea0ff5cb096d87a75db.jpg  \n",
            "  inflating: train/images/-_-16_jpg.rf.35d551b32b2d52028b83e7e4f2e17b6b.jpg  \n",
            "  inflating: train/images/-_-17_jpg.rf.15ac5fc49aba95f33b83c5d65ff8e72f.jpg  \n",
            "  inflating: train/images/-_-18_jpg.rf.f1aced9e0a6ad9c85f98f6410f08d774.jpg  \n",
            "  inflating: train/images/-_-19_jpg.rf.91b253e651bd5fc745e039b8931a2110.jpg  \n",
            "  inflating: train/images/-_-2_jpg.rf.32677d8e7704613ac94453b263928af2.jpg  \n",
            "  inflating: train/images/-_-20_jpg.rf.dd554c86ceea734995e7ae286f6474ac.jpg  \n",
            "  inflating: train/images/-_-3_jpg.rf.ac3dc06e2e15f3dd28d8e9184af0d2e3.jpg  \n",
            "  inflating: train/images/-_-5_jpg.rf.fcc205aa4ff74bbe352f39d8926fa480.jpg  \n",
            "  inflating: train/images/-_-6_jpg.rf.23d8e904249251508ef2808935c93308.jpg  \n",
            "  inflating: train/images/-_-7_jpg.rf.9c44d2681414792a65a69eccc85ba500.jpg  \n",
            "  inflating: train/images/-_-8_jpg.rf.71134b786fd96c3353ec555101cc18cc.jpg  \n",
            "  inflating: train/images/-_-9_jpg.rf.87fbd45ffe42b84e24f32a229559d280.jpg  \n",
            "  inflating: train/images/-1_jpg.rf.113c87afbdbccfc868d271b31e73e1c7.jpg  \n",
            "  inflating: train/images/-1_jpg.rf.8d1788b73294491250e70255cbc1ea9b.jpg  \n",
            "  inflating: train/images/-10_jpg.rf.0629af9fcd65590fd174d376b6bb0b9b.jpg  \n",
            "  inflating: train/images/-10_jpg.rf.d91af52f31a5e125285ee5bd2c907142.jpg  \n",
            "  inflating: train/images/-11_jpg.rf.4f56886c2c14f9698a1e457f3698374c.jpg  \n",
            "  inflating: train/images/-11_jpg.rf.a9e7323eadd05e6aeff0bdbe9c4b553f.jpg  \n",
            "  inflating: train/images/115327_2fabfcb6_jpg.rf.0bd3f24cd0d4c8bbfbd239f872e5a9c3.jpg  \n",
            "  inflating: train/images/-12_jpg.rf.5faf3dcfb36ecffda9e777e7c54d7a59.jpg  \n",
            "  inflating: train/images/-12_jpg.rf.eac279476cdaa5f4675fe7c2be970bdb.jpg  \n",
            "  inflating: train/images/-13_jpg.rf.b24781fb5a3b398185f5c4a0c0e6bfda.jpg  \n",
            "  inflating: train/images/-13_jpg.rf.fa2f7a855647bacfd0bf0a75ca4f0ccd.jpg  \n",
            "  inflating: train/images/-14_jpg.rf.7c550ea28ef229197e27c3356b90169a.jpg  \n",
            "  inflating: train/images/-14_jpg.rf.edc4e0ad24186deaa79cfa54c6a5fbbe.jpg  \n",
            "  inflating: train/images/-15_jpg.rf.1b4f322d3f15f63fcc9f48188432a281.jpg  \n",
            "  inflating: train/images/-15_jpg.rf.8c138689dcdd6979caf494916d336613.jpg  \n",
            "  inflating: train/images/-16_jpg.rf.2bb9b28f81932af5b3eef2cc7fed19e5.jpg  \n",
            "  inflating: train/images/-16_jpg.rf.7f69b89bc9249265c05ea8c958372a39.jpg  \n",
            "  inflating: train/images/1621068131_30-p-shchavel-tupolistnii-foto-31_jpg.rf.1822fd0b43baf709cb8d54a836058313.jpg  \n",
            "  inflating: train/images/1637356620_5-pro-dachnikov-com-p-osot-sherokhovatii-foto-5_jpg.rf.8c9b0ca87d44799e66d64da4999b6b1d.jpg  \n",
            "  inflating: train/images/1637892659_67-pro-dachnikov-com-p-osot-polevoi-foto-68_jpg.rf.75769889e582b8391b937d42438b0a10.jpg  \n",
            "  inflating: train/images/1637892708_152-pro-dachnikov-com-p-osot-polevoi-foto-156_jpg.rf.2663be047e34b7bde8a288ad753e14e6.jpg  \n",
            "  inflating: train/images/1637940176_7-pro-dachnikov-com-p-shchavel-konskii-foto-7_jpg.rf.8ffc3dd5d96fdeb6ca9680df1f6be7c0.jpg  \n",
            "  inflating: train/images/1637940180_5-pro-dachnikov-com-p-shchavel-konskii-foto-5_jpg.rf.d6e7ef54cdeeb4918066a848d375e03d.jpg  \n",
            "  inflating: train/images/1637940194_65-pro-dachnikov-com-p-shchavel-konskii-foto-66_jpg.rf.fb25e1bbf678fe3c370642a978718c43.jpg  \n",
            "  inflating: train/images/1637940197_29-pro-dachnikov-com-p-shchavel-konskii-foto-29_jpg.rf.70d514ca876b98f958988a30e05a71fe.jpg  \n",
            "  inflating: train/images/1637940214_51-pro-dachnikov-com-p-shchavel-konskii-foto-52_jpg.rf.ce2df790a7a4433ff633719618a70861.jpg  \n",
            "  inflating: train/images/1637940218_15-pro-dachnikov-com-p-shchavel-konskii-foto-15_jpg.rf.3b42c5a0f2201b8d24ca0fb5a3f399c6.jpg  \n",
            "  inflating: train/images/1637940219_10-pro-dachnikov-com-p-shchavel-konskii-foto-10_jpg.rf.f19df3a5f265794d2d03b8585a077041.jpg  \n",
            "  inflating: train/images/1637940233_41-pro-dachnikov-com-p-shchavel-konskii-foto-41_jpg.rf.a9bd48854350a8a1be44469712266da4.jpg  \n",
            "  inflating: train/images/1650578051_12-vsegda-pomnim-com-p-kak-tsvetet-osot-foto-12_jpg.rf.9b188d1003a0547b14bcec2074e16c7d.jpg  \n",
            "  inflating: train/images/1650578062_3-vsegda-pomnim-com-p-kak-tsvetet-osot-foto-3_jpg.rf.2f3392a8b72d710709b5a84d24c03223.jpg  \n",
            "  inflating: train/images/1650578063_17-vsegda-pomnim-com-p-kak-tsvetet-osot-foto-17_jpg.rf.85310d272b7d732632d0570ce03c4500.jpg  \n",
            "  inflating: train/images/1650578100_9-vsegda-pomnim-com-p-kak-tsvetet-osot-foto-9_jpg.rf.97afbbec5bc2cbae80aac24f320c69ca.jpg  \n",
            "  inflating: train/images/1650578109_37-vsegda-pomnim-com-p-kak-tsvetet-osot-foto-37_jpg.rf.1ca6fd53a49f3c0dc17ff98759b20673.jpg  \n",
            "  inflating: train/images/1650578124_27-vsegda-pomnim-com-p-kak-tsvetet-osot-foto-27_jpg.rf.a68a1ec89e4009b8d64cd07b55ac6ce0.jpg  \n",
            "  inflating: train/images/1663662796_27-mykaleidoscope-ru-p-rastenie-osot-ogorodnii-instagram-28_jpg.rf.19fb6a5d6fe7d393ed89405aa55c86b2.jpg  \n",
            "  inflating: train/images/-17_jpg.rf.ee19eb0fe2dfd2d2c179d7e349abab35.jpg  \n",
            "  inflating: train/images/-17_jpg.rf.fe3a5d15c375b99aa26563a8ca657364.jpg  \n",
            "  inflating: train/images/-18_jpg.rf.21ed7e1b613ec93a9daa27b3c4e61f3d.jpg  \n",
            "  inflating: train/images/-18_jpg.rf.ac07f1c2a9b437fcb16685635247b11d.jpg  \n",
            "  inflating: train/images/-19_jpg.rf.01e160dbd772278ffd62e3822cd395dc.jpg  \n",
            "  inflating: train/images/-19_jpg.rf.673b583d1efa55cdffbf3a3cd0a7438a.jpg  \n",
            "  inflating: train/images/190dadd26125e14c300e1b42e4a325bed17b20_jpg.rf.073062a79a83988b110067491b6b283a.jpg  \n",
            "  inflating: train/images/-2_jpg.rf.9a0cb5c39e2390d04c2df44e85c6fdc9.jpg  \n",
            "  inflating: train/images/-2_jpg.rf.a2a71f55592d8256c51f8d6b71836eac.jpg  \n",
            "  inflating: train/images/-2_jpg.rf.a3f409984139c3d882faa96a414fd6d8.jpg  \n",
            "  inflating: train/images/-20_jpg.rf.4b8614244311b3295732e8db62f5775c.jpg  \n",
            "  inflating: train/images/-20_jpg.rf.7f9668606af9561a9084d7ca9df227e2.jpg  \n",
            "  inflating: train/images/2569_8569_1621811790_7_jpg.rf.7460715793dc8ea27d56ccf527b6049a.jpg  \n",
            "  inflating: train/images/-3_jpg.rf.1335967d200f8d0712f8907cbc9685f9.jpg  \n",
            "  inflating: train/images/-3_jpg.rf.1bf5063a8d335adc6d2b1d5782ac8b23.jpg  \n",
            "  inflating: train/images/-3_jpg.rf.8d7e411fdfe203df67eb0bbfea489afa.jpg  \n",
            "  inflating: train/images/-3_jpg.rf.ee79c99a26fcf40ecb5cdf2331222113.jpg  \n",
            "  inflating: train/images/34472_741af5ff_jpg.rf.78303117f043e4352e247f5b455fa564.jpg  \n",
            "  inflating: train/images/-4_jpg.rf.14516a4440adbaf127f12475c7722c88.jpg  \n",
            "  inflating: train/images/-4_jpg.rf.a18098df9970fd83cf583aaa55abbc7a.jpg  \n",
            "  inflating: train/images/-5_jpg.rf.4cc019cdbc6570532df85e30fa06f4e0.jpg  \n",
            "  inflating: train/images/-5_jpg.rf.ff8ba19c7f6825f868efbcd301020abf.jpg  \n",
            "  inflating: train/images/523509_cf848180_jpg.rf.d8fcf03e73a40d482ad9c347c032be16.jpg  \n",
            "  inflating: train/images/-6_jpg.rf.9a9027a2ce1531526cedec14b42bbae2.jpg  \n",
            "  inflating: train/images/-6_jpg.rf.f1950e890e08fdee06cbdbf5b7191b16.jpg  \n",
            "  inflating: train/images/681086_af16c1d3_jpg.rf.c33525207d0caf5a7ac6e7fd743439ab.jpg  \n",
            "  inflating: train/images/-7_jpg.rf.21966521ac1330b9a70bdba261438dd9.jpg  \n",
            "  inflating: train/images/-7_jpg.rf.ab0a195b520db4365fa6b8a5e2e3e33e.jpg  \n",
            "  inflating: train/images/77515_jpg.rf.da548c2b2dc466886c59ba7051e6b7f3.jpg  \n",
            "  inflating: train/images/-8_jpg.rf.3e3439a62ede9c66a1e4eb74fa6b6817.jpg  \n",
            "  inflating: train/images/-8_jpg.rf.d63e5ff4b1f62041050fb49cf508e07a.jpg  \n",
            "  inflating: train/images/-9_jpg.rf.08c4c22fe191b70ec456bb72d3630780.jpg  \n",
            "  inflating: train/images/-9_jpg.rf.e8ddb9d851f3f3621d75cbad45b2ce64.jpg  \n",
            "  inflating: train/images/98f9277b96d7105e8f2751f86fb0a2b3_jpg.rf.305cfc577718e8f5cba5749765c311fd.jpg  \n",
            "  inflating: train/images/By8gXRJs4ZI_jpg.rf.dff4e02082f9d25da0daf01c7c82d3c3.jpg  \n",
            "  inflating: train/images/carduus-acanthoides-spiny-plumeless-thistle-welted-thistle-plumeless-thistle_jpg.rf.659f0a4568fd5599e8fc1b69aa2d6d3d.jpg  \n",
            "  inflating: train/images/db58656231ccaffa340e372fca92dbce_jpg.rf.a17dac42cd658f666ff3892278676f9f.jpg  \n",
            "  inflating: train/images/db58f48da23025a7ac78751bfc4cd330_jpg.rf.9a715c9518b64d835959d8f4a9c6fd58.jpg  \n",
            "  inflating: train/images/dd_osot_1_jpg.rf.f474aad0bee7dc1d8d0f4d4fa336ed72.jpg  \n",
            "  inflating: train/images/flower-gf0f1e0568-1280-ce2a91716901ef2de99daf439e369dff-a3876c14fac122ca5c34fd3b7b36b609_jpg.rf.0644445d58cc3093c19385fca2fe78f8.jpg  \n",
            "  inflating: train/images/lgj5b6n3c6k7ff5lswo_2023-04-16__10_29_00_g1kl33qoBAv1xfUd__jpg.rf.d924dae230a83f31c80e8659ce7ce14d.jpg  \n",
            "  inflating: train/images/News24041866189_2273_jpg.rf.4e645ac80799e7b69bbd20cebf55314c.jpg  \n",
            "  inflating: train/images/Polygonaceae_-_Rumex_arifolius_jpg.rf.16923cf92b77d5688c0856c0b5c4219c.jpg  \n",
            "  inflating: train/images/scale_1200_jpg.rf.7de404ad660d79464ce7e159ab7174e2.jpg  \n",
            "  inflating: train/images/Sonchus-asper-1_jpg.rf.f5d79e38ed5d677261b42ff4414751af.jpg  \n",
            "  inflating: train/images/thistle-flower-close-up-green_jpg.rf.441fae76cd746c3dcb735b1aabb04a47.jpg  \n",
            "   creating: train/labels/\n",
            "  inflating: train/labels/-_-1_jpg.rf.95715c7480b376c793496dc2c32c9cef.txt  \n",
            "  inflating: train/labels/-_-10_jpg.rf.2e90cae178387db23bd105c971d92923.txt  \n",
            "  inflating: train/labels/-_-11_jpg.rf.7570116441de313ef26253b37ebfe5ad.txt  \n",
            "  inflating: train/labels/-_-12_jpg.rf.95f6eb37d4e1061addc8c4099d4a2656.txt  \n",
            "  inflating: train/labels/-_-13_jpg.rf.4c079f8f560b28c26696c224d7ef67ab.txt  \n",
            "  inflating: train/labels/-_-14_jpg.rf.b4f370995738b9161fb73f889f2ca760.txt  \n",
            "  inflating: train/labels/-_-15_jpg.rf.014335bf1070eea0ff5cb096d87a75db.txt  \n",
            "  inflating: train/labels/-_-16_jpg.rf.35d551b32b2d52028b83e7e4f2e17b6b.txt  \n",
            "  inflating: train/labels/-_-17_jpg.rf.15ac5fc49aba95f33b83c5d65ff8e72f.txt  \n",
            "  inflating: train/labels/-_-18_jpg.rf.f1aced9e0a6ad9c85f98f6410f08d774.txt  \n",
            "  inflating: train/labels/-_-19_jpg.rf.91b253e651bd5fc745e039b8931a2110.txt  \n",
            "  inflating: train/labels/-_-2_jpg.rf.32677d8e7704613ac94453b263928af2.txt  \n",
            "  inflating: train/labels/-_-20_jpg.rf.dd554c86ceea734995e7ae286f6474ac.txt  \n",
            "  inflating: train/labels/-_-3_jpg.rf.ac3dc06e2e15f3dd28d8e9184af0d2e3.txt  \n",
            "  inflating: train/labels/-_-5_jpg.rf.fcc205aa4ff74bbe352f39d8926fa480.txt  \n",
            "  inflating: train/labels/-_-6_jpg.rf.23d8e904249251508ef2808935c93308.txt  \n",
            "  inflating: train/labels/-_-7_jpg.rf.9c44d2681414792a65a69eccc85ba500.txt  \n",
            "  inflating: train/labels/-_-8_jpg.rf.71134b786fd96c3353ec555101cc18cc.txt  \n",
            "  inflating: train/labels/-_-9_jpg.rf.87fbd45ffe42b84e24f32a229559d280.txt  \n",
            "  inflating: train/labels/-1_jpg.rf.113c87afbdbccfc868d271b31e73e1c7.txt  \n",
            "  inflating: train/labels/-1_jpg.rf.8d1788b73294491250e70255cbc1ea9b.txt  \n",
            "  inflating: train/labels/-10_jpg.rf.0629af9fcd65590fd174d376b6bb0b9b.txt  \n",
            "  inflating: train/labels/-10_jpg.rf.d91af52f31a5e125285ee5bd2c907142.txt  \n",
            "  inflating: train/labels/-11_jpg.rf.4f56886c2c14f9698a1e457f3698374c.txt  \n",
            "  inflating: train/labels/-11_jpg.rf.a9e7323eadd05e6aeff0bdbe9c4b553f.txt  \n",
            "  inflating: train/labels/115327_2fabfcb6_jpg.rf.0bd3f24cd0d4c8bbfbd239f872e5a9c3.txt  \n",
            "  inflating: train/labels/-12_jpg.rf.5faf3dcfb36ecffda9e777e7c54d7a59.txt  \n",
            "  inflating: train/labels/-12_jpg.rf.eac279476cdaa5f4675fe7c2be970bdb.txt  \n",
            "  inflating: train/labels/-13_jpg.rf.b24781fb5a3b398185f5c4a0c0e6bfda.txt  \n",
            "  inflating: train/labels/-13_jpg.rf.fa2f7a855647bacfd0bf0a75ca4f0ccd.txt  \n",
            "  inflating: train/labels/-14_jpg.rf.7c550ea28ef229197e27c3356b90169a.txt  \n",
            "  inflating: train/labels/-14_jpg.rf.edc4e0ad24186deaa79cfa54c6a5fbbe.txt  \n",
            "  inflating: train/labels/-15_jpg.rf.1b4f322d3f15f63fcc9f48188432a281.txt  \n",
            "  inflating: train/labels/-15_jpg.rf.8c138689dcdd6979caf494916d336613.txt  \n",
            "  inflating: train/labels/-16_jpg.rf.2bb9b28f81932af5b3eef2cc7fed19e5.txt  \n",
            "  inflating: train/labels/-16_jpg.rf.7f69b89bc9249265c05ea8c958372a39.txt  \n",
            "  inflating: train/labels/1621068131_30-p-shchavel-tupolistnii-foto-31_jpg.rf.1822fd0b43baf709cb8d54a836058313.txt  \n",
            "  inflating: train/labels/1637356620_5-pro-dachnikov-com-p-osot-sherokhovatii-foto-5_jpg.rf.8c9b0ca87d44799e66d64da4999b6b1d.txt  \n",
            "  inflating: train/labels/1637892659_67-pro-dachnikov-com-p-osot-polevoi-foto-68_jpg.rf.75769889e582b8391b937d42438b0a10.txt  \n",
            "  inflating: train/labels/1637892708_152-pro-dachnikov-com-p-osot-polevoi-foto-156_jpg.rf.2663be047e34b7bde8a288ad753e14e6.txt  \n",
            "  inflating: train/labels/1637940176_7-pro-dachnikov-com-p-shchavel-konskii-foto-7_jpg.rf.8ffc3dd5d96fdeb6ca9680df1f6be7c0.txt  \n",
            "  inflating: train/labels/1637940180_5-pro-dachnikov-com-p-shchavel-konskii-foto-5_jpg.rf.d6e7ef54cdeeb4918066a848d375e03d.txt  \n",
            "  inflating: train/labels/1637940194_65-pro-dachnikov-com-p-shchavel-konskii-foto-66_jpg.rf.fb25e1bbf678fe3c370642a978718c43.txt  \n",
            "  inflating: train/labels/1637940197_29-pro-dachnikov-com-p-shchavel-konskii-foto-29_jpg.rf.70d514ca876b98f958988a30e05a71fe.txt  \n",
            "  inflating: train/labels/1637940214_51-pro-dachnikov-com-p-shchavel-konskii-foto-52_jpg.rf.ce2df790a7a4433ff633719618a70861.txt  \n",
            "  inflating: train/labels/1637940218_15-pro-dachnikov-com-p-shchavel-konskii-foto-15_jpg.rf.3b42c5a0f2201b8d24ca0fb5a3f399c6.txt  \n",
            "  inflating: train/labels/1637940219_10-pro-dachnikov-com-p-shchavel-konskii-foto-10_jpg.rf.f19df3a5f265794d2d03b8585a077041.txt  \n",
            "  inflating: train/labels/1637940233_41-pro-dachnikov-com-p-shchavel-konskii-foto-41_jpg.rf.a9bd48854350a8a1be44469712266da4.txt  \n",
            "  inflating: train/labels/1650578051_12-vsegda-pomnim-com-p-kak-tsvetet-osot-foto-12_jpg.rf.9b188d1003a0547b14bcec2074e16c7d.txt  \n",
            "  inflating: train/labels/1650578062_3-vsegda-pomnim-com-p-kak-tsvetet-osot-foto-3_jpg.rf.2f3392a8b72d710709b5a84d24c03223.txt  \n",
            "  inflating: train/labels/1650578063_17-vsegda-pomnim-com-p-kak-tsvetet-osot-foto-17_jpg.rf.85310d272b7d732632d0570ce03c4500.txt  \n",
            "  inflating: train/labels/1650578100_9-vsegda-pomnim-com-p-kak-tsvetet-osot-foto-9_jpg.rf.97afbbec5bc2cbae80aac24f320c69ca.txt  \n",
            "  inflating: train/labels/1650578109_37-vsegda-pomnim-com-p-kak-tsvetet-osot-foto-37_jpg.rf.1ca6fd53a49f3c0dc17ff98759b20673.txt  \n",
            "  inflating: train/labels/1650578124_27-vsegda-pomnim-com-p-kak-tsvetet-osot-foto-27_jpg.rf.a68a1ec89e4009b8d64cd07b55ac6ce0.txt  \n",
            "  inflating: train/labels/1663662796_27-mykaleidoscope-ru-p-rastenie-osot-ogorodnii-instagram-28_jpg.rf.19fb6a5d6fe7d393ed89405aa55c86b2.txt  \n",
            "  inflating: train/labels/-17_jpg.rf.ee19eb0fe2dfd2d2c179d7e349abab35.txt  \n",
            "  inflating: train/labels/-17_jpg.rf.fe3a5d15c375b99aa26563a8ca657364.txt  \n",
            "  inflating: train/labels/-18_jpg.rf.21ed7e1b613ec93a9daa27b3c4e61f3d.txt  \n",
            "  inflating: train/labels/-18_jpg.rf.ac07f1c2a9b437fcb16685635247b11d.txt  \n",
            "  inflating: train/labels/-19_jpg.rf.01e160dbd772278ffd62e3822cd395dc.txt  \n",
            "  inflating: train/labels/-19_jpg.rf.673b583d1efa55cdffbf3a3cd0a7438a.txt  \n",
            "  inflating: train/labels/190dadd26125e14c300e1b42e4a325bed17b20_jpg.rf.073062a79a83988b110067491b6b283a.txt  \n",
            "  inflating: train/labels/-2_jpg.rf.9a0cb5c39e2390d04c2df44e85c6fdc9.txt  \n",
            "  inflating: train/labels/-2_jpg.rf.a2a71f55592d8256c51f8d6b71836eac.txt  \n",
            "  inflating: train/labels/-2_jpg.rf.a3f409984139c3d882faa96a414fd6d8.txt  \n",
            "  inflating: train/labels/-20_jpg.rf.4b8614244311b3295732e8db62f5775c.txt  \n",
            "  inflating: train/labels/-20_jpg.rf.7f9668606af9561a9084d7ca9df227e2.txt  \n",
            "  inflating: train/labels/2569_8569_1621811790_7_jpg.rf.7460715793dc8ea27d56ccf527b6049a.txt  \n",
            "  inflating: train/labels/-3_jpg.rf.1335967d200f8d0712f8907cbc9685f9.txt  \n",
            "  inflating: train/labels/-3_jpg.rf.1bf5063a8d335adc6d2b1d5782ac8b23.txt  \n",
            "  inflating: train/labels/-3_jpg.rf.8d7e411fdfe203df67eb0bbfea489afa.txt  \n",
            "  inflating: train/labels/-3_jpg.rf.ee79c99a26fcf40ecb5cdf2331222113.txt  \n",
            "  inflating: train/labels/34472_741af5ff_jpg.rf.78303117f043e4352e247f5b455fa564.txt  \n",
            "  inflating: train/labels/-4_jpg.rf.14516a4440adbaf127f12475c7722c88.txt  \n",
            "  inflating: train/labels/-4_jpg.rf.a18098df9970fd83cf583aaa55abbc7a.txt  \n",
            "  inflating: train/labels/-5_jpg.rf.4cc019cdbc6570532df85e30fa06f4e0.txt  \n",
            "  inflating: train/labels/-5_jpg.rf.ff8ba19c7f6825f868efbcd301020abf.txt  \n",
            "  inflating: train/labels/523509_cf848180_jpg.rf.d8fcf03e73a40d482ad9c347c032be16.txt  \n",
            "  inflating: train/labels/-6_jpg.rf.9a9027a2ce1531526cedec14b42bbae2.txt  \n",
            "  inflating: train/labels/-6_jpg.rf.f1950e890e08fdee06cbdbf5b7191b16.txt  \n",
            "  inflating: train/labels/681086_af16c1d3_jpg.rf.c33525207d0caf5a7ac6e7fd743439ab.txt  \n",
            "  inflating: train/labels/-7_jpg.rf.21966521ac1330b9a70bdba261438dd9.txt  \n",
            "  inflating: train/labels/-7_jpg.rf.ab0a195b520db4365fa6b8a5e2e3e33e.txt  \n",
            "  inflating: train/labels/77515_jpg.rf.da548c2b2dc466886c59ba7051e6b7f3.txt  \n",
            "  inflating: train/labels/-8_jpg.rf.3e3439a62ede9c66a1e4eb74fa6b6817.txt  \n",
            "  inflating: train/labels/-8_jpg.rf.d63e5ff4b1f62041050fb49cf508e07a.txt  \n",
            "  inflating: train/labels/-9_jpg.rf.08c4c22fe191b70ec456bb72d3630780.txt  \n",
            "  inflating: train/labels/-9_jpg.rf.e8ddb9d851f3f3621d75cbad45b2ce64.txt  \n",
            "  inflating: train/labels/98f9277b96d7105e8f2751f86fb0a2b3_jpg.rf.305cfc577718e8f5cba5749765c311fd.txt  \n",
            "  inflating: train/labels/By8gXRJs4ZI_jpg.rf.dff4e02082f9d25da0daf01c7c82d3c3.txt  \n",
            "  inflating: train/labels/carduus-acanthoides-spiny-plumeless-thistle-welted-thistle-plumeless-thistle_jpg.rf.659f0a4568fd5599e8fc1b69aa2d6d3d.txt  \n",
            "  inflating: train/labels/db58656231ccaffa340e372fca92dbce_jpg.rf.a17dac42cd658f666ff3892278676f9f.txt  \n",
            "  inflating: train/labels/db58f48da23025a7ac78751bfc4cd330_jpg.rf.9a715c9518b64d835959d8f4a9c6fd58.txt  \n",
            "  inflating: train/labels/dd_osot_1_jpg.rf.f474aad0bee7dc1d8d0f4d4fa336ed72.txt  \n",
            "  inflating: train/labels/flower-gf0f1e0568-1280-ce2a91716901ef2de99daf439e369dff-a3876c14fac122ca5c34fd3b7b36b609_jpg.rf.0644445d58cc3093c19385fca2fe78f8.txt  \n",
            "  inflating: train/labels/lgj5b6n3c6k7ff5lswo_2023-04-16__10_29_00_g1kl33qoBAv1xfUd__jpg.rf.d924dae230a83f31c80e8659ce7ce14d.txt  \n",
            "  inflating: train/labels/News24041866189_2273_jpg.rf.4e645ac80799e7b69bbd20cebf55314c.txt  \n",
            "  inflating: train/labels/Polygonaceae_-_Rumex_arifolius_jpg.rf.16923cf92b77d5688c0856c0b5c4219c.txt  \n",
            "  inflating: train/labels/scale_1200_jpg.rf.7de404ad660d79464ce7e159ab7174e2.txt  \n",
            "  inflating: train/labels/Sonchus-asper-1_jpg.rf.f5d79e38ed5d677261b42ff4414751af.txt  \n",
            "  inflating: train/labels/thistle-flower-close-up-green_jpg.rf.441fae76cd746c3dcb735b1aabb04a47.txt  \n"
          ]
        }
      ]
    },
    {
      "cell_type": "markdown",
      "metadata": {
        "id": "yI6J7mczRXIn"
      },
      "source": [
        "# Функции и класс (для переворота картинок, разметки)"
      ]
    },
    {
      "cell_type": "code",
      "execution_count": null,
      "metadata": {
        "id": "naWRq1TZyM3Z"
      },
      "outputs": [],
      "source": [
        "def get_corners(bboxes):\n",
        "\n",
        "    \"\"\"Get corners of bounding boxes\n",
        "\n",
        "    Parameters\n",
        "    ----------\n",
        "\n",
        "    bboxes: numpy.ndarray\n",
        "        Numpy array containing bounding boxes of shape `N X 4` where N is the\n",
        "        number of bounding boxes and the bounding boxes are represented in the\n",
        "        format `x1 y1 x2 y2`\n",
        "\n",
        "    returns\n",
        "    -------\n",
        "\n",
        "    numpy.ndarray\n",
        "        Numpy array of shape `N x 8` containing N bounding boxes each described by their\n",
        "        corner co-ordinates `x1 y1 x2 y2 x3 y3 x4 y4`\n",
        "\n",
        "    \"\"\"\n",
        "    width = (bboxes[:,2] - bboxes[:,0]).reshape(-1,1)\n",
        "    height = (bboxes[:,3] - bboxes[:,1]).reshape(-1,1)\n",
        "\n",
        "    x1 = bboxes[:,0].reshape(-1,1)\n",
        "    y1 = bboxes[:,1].reshape(-1,1)\n",
        "\n",
        "    x2 = x1 + width\n",
        "    y2 = y1\n",
        "\n",
        "    x3 = x1\n",
        "    y3 = y1 + height\n",
        "\n",
        "    x4 = bboxes[:,2].reshape(-1,1)\n",
        "    y4 = bboxes[:,3].reshape(-1,1)\n",
        "\n",
        "    corners = np.hstack((x1,y1,x2,y2,x3,y3,x4,y4))\n",
        "\n",
        "    return corners"
      ]
    },
    {
      "cell_type": "code",
      "execution_count": null,
      "metadata": {
        "id": "-ow_MokIyixf"
      },
      "outputs": [],
      "source": [
        "def rotate_im(image, angle):\n",
        "    \"\"\"Rotate the image.\n",
        "\n",
        "    Rotate the image such that the rotated image is enclosed inside the tightest\n",
        "    rectangle. The area not occupied by the pixels of the original image is colored\n",
        "    black.\n",
        "\n",
        "    Parameters\n",
        "    ----------\n",
        "\n",
        "    image : numpy.ndarray\n",
        "        numpy image\n",
        "\n",
        "    angle : float\n",
        "        angle by which the image is to be rotated\n",
        "\n",
        "    Returns\n",
        "    -------\n",
        "\n",
        "    numpy.ndarray\n",
        "        Rotated Image\n",
        "\n",
        "    \"\"\"\n",
        "    # grab the dimensions of the image and then determine the\n",
        "    # centre\n",
        "    (h, w) = image.shape[:2]\n",
        "    (cX, cY) = (w // 2, h // 2)\n",
        "\n",
        "    # grab the rotation matrix (applying the negative of the\n",
        "    # angle to rotate clockwise), then grab the sine and cosine\n",
        "    # (i.e., the rotation components of the matrix)\n",
        "    M = cv2.getRotationMatrix2D((cX, cY), angle, 1.0)\n",
        "    cos = np.abs(M[0, 0])\n",
        "    sin = np.abs(M[0, 1])\n",
        "\n",
        "    # compute the new bounding dimensions of the image\n",
        "    nW = int((h * sin) + (w * cos))\n",
        "    nH = int((h * cos) + (w * sin))\n",
        "\n",
        "    # adjust the rotation matrix to take into account translation\n",
        "    M[0, 2] += (nW / 2) - cX\n",
        "    M[1, 2] += (nH / 2) - cY\n",
        "\n",
        "    # perform the actual rotation and return the image\n",
        "    image = cv2.warpAffine(image, M, (nW, nH))\n",
        "\n",
        "    # image = cv2.resize(image, (w,h))\n",
        "\n",
        "# ...\n",
        "    # image = img_to_array(image)\n",
        "    # IMD = ImageDataGenerator()\n",
        "    # return IMD.apply_transform(image, transform_parameters={'theta': angle})\n",
        "# ...\n",
        "\n",
        "    return image"
      ]
    },
    {
      "cell_type": "code",
      "execution_count": null,
      "metadata": {
        "id": "q5Ygrv8bynSF"
      },
      "outputs": [],
      "source": [
        "def rotate_box(corners,angle,  cx, cy, h, w):\n",
        "\n",
        "    \"\"\"Rotate the bounding box.\n",
        "\n",
        "\n",
        "    Parameters\n",
        "    ----------\n",
        "\n",
        "    corners : numpy.ndarray\n",
        "        Numpy array of shape `N x 8` containing N bounding boxes each described by their\n",
        "        corner co-ordinates `x1 y1 x2 y2 x3 y3 x4 y4`\n",
        "\n",
        "    angle : float\n",
        "        angle by which the image is to be rotated\n",
        "\n",
        "    cx : int\n",
        "        x coordinate of the center of image (about which the box will be rotated)\n",
        "\n",
        "    cy : int\n",
        "        y coordinate of the center of image (about which the box will be rotated)\n",
        "\n",
        "    h : int\n",
        "        height of the image\n",
        "\n",
        "    w : int\n",
        "        width of the image\n",
        "\n",
        "    Returns\n",
        "    -------\n",
        "\n",
        "    numpy.ndarray\n",
        "        Numpy array of shape `N x 8` containing N rotated bounding boxes each described by their\n",
        "        corner co-ordinates `x1 y1 x2 y2 x3 y3 x4 y4`\n",
        "    \"\"\"\n",
        "\n",
        "    corners = corners.reshape(-1,2)\n",
        "    corners = np.hstack((corners, np.ones((corners.shape[0],1), dtype = type(corners[0][0]))))\n",
        "\n",
        "    M = cv2.getRotationMatrix2D((cx, cy), angle, 1.0)\n",
        "\n",
        "\n",
        "    cos = np.abs(M[0, 0])\n",
        "    sin = np.abs(M[0, 1])\n",
        "\n",
        "    nW = int((h * sin) + (w * cos))\n",
        "    nH = int((h * cos) + (w * sin))\n",
        "    # adjust the rotation matrix to take into account translation\n",
        "    M[0, 2] += (nW / 2) - cx\n",
        "    M[1, 2] += (nH / 2) - cy\n",
        "    # Prepare the vector to be transformed\n",
        "    calculated = np.dot(M,corners.T).T\n",
        "\n",
        "    calculated = calculated.reshape(-1,8)\n",
        "\n",
        "    return calculated"
      ]
    },
    {
      "cell_type": "code",
      "execution_count": null,
      "metadata": {
        "id": "2G_jcqHkyoJF"
      },
      "outputs": [],
      "source": [
        "def get_enclosing_box(corners):\n",
        "    \"\"\"Get an enclosing box for ratated corners of a bounding box\n",
        "\n",
        "    Parameters\n",
        "    ----------\n",
        "\n",
        "    corners : numpy.ndarray\n",
        "        Numpy array of shape `N x 8` containing N bounding boxes each described by their\n",
        "        corner co-ordinates `x1 y1 x2 y2 x3 y3 x4 y4`\n",
        "\n",
        "    Returns\n",
        "    -------\n",
        "\n",
        "    numpy.ndarray\n",
        "        Numpy array containing enclosing bounding boxes of shape `N X 4` where N is the\n",
        "        number of bounding boxes and the bounding boxes are represented in the\n",
        "        format `x1 y1 x2 y2`\n",
        "\n",
        "    \"\"\"\n",
        "    x_ = corners[:,[0,2,4,6]]\n",
        "    y_ = corners[:,[1,3,5,7]]\n",
        "\n",
        "    xmin = np.min(x_,1).reshape(-1,1)\n",
        "    ymin = np.min(y_,1).reshape(-1,1)\n",
        "    xmax = np.max(x_,1).reshape(-1,1)\n",
        "    ymax = np.max(y_,1).reshape(-1,1)\n",
        "\n",
        "    final = np.hstack((xmin, ymin, xmax, ymax,corners[:,8:]))\n",
        "\n",
        "    return final"
      ]
    },
    {
      "cell_type": "code",
      "execution_count": null,
      "metadata": {
        "id": "TQJtdImO1b_k"
      },
      "outputs": [],
      "source": [
        "def bbox_area(bbox):\n",
        "    return (bbox[:,2] - bbox[:,0])*(bbox[:,3] - bbox[:,1])"
      ]
    },
    {
      "cell_type": "code",
      "execution_count": null,
      "metadata": {
        "id": "LFRwJTO4zkUm"
      },
      "outputs": [],
      "source": [
        "def clip_box(bbox, clip_box, alpha):\n",
        "    \"\"\"Clip the bounding boxes to the borders of an image\n",
        "\n",
        "    Parameters\n",
        "    ----------\n",
        "\n",
        "    bbox: numpy.ndarray\n",
        "        Numpy array containing bounding boxes of shape `N X 4` where N is the\n",
        "        number of bounding boxes and the bounding boxes are represented in the\n",
        "        format `x1 y1 x2 y2`\n",
        "\n",
        "    clip_box: numpy.ndarray\n",
        "        An array of shape (4,) specifying the diagonal co-ordinates of the image\n",
        "        The coordinates are represented in the format `x1 y1 x2 y2`\n",
        "\n",
        "    alpha: float\n",
        "        If the fraction of a bounding box left in the image after being clipped is\n",
        "        less than `alpha` the bounding box is dropped.\n",
        "\n",
        "    Returns\n",
        "    -------\n",
        "\n",
        "    numpy.ndarray\n",
        "        Numpy array containing **clipped** bounding boxes of shape `N X 4` where N is the\n",
        "        number of bounding boxes left are being clipped and the bounding boxes are represented in the\n",
        "        format `x1 y1 x2 y2`\n",
        "\n",
        "    \"\"\"\n",
        "    ar_ = (bbox_area(bbox))\n",
        "    x_min = np.maximum(bbox[:,0], clip_box[0]).reshape(-1,1)\n",
        "    y_min = np.maximum(bbox[:,1], clip_box[1]).reshape(-1,1)\n",
        "    x_max = np.minimum(bbox[:,2], clip_box[2]).reshape(-1,1)\n",
        "    y_max = np.minimum(bbox[:,3], clip_box[3]).reshape(-1,1)\n",
        "\n",
        "    bbox = np.hstack((x_min, y_min, x_max, y_max, bbox[:,4:]))\n",
        "\n",
        "    delta_area = ((ar_ - bbox_area(bbox))/ar_)\n",
        "\n",
        "    mask = (delta_area < (1 - alpha)).astype(int)\n",
        "\n",
        "    bbox = bbox[mask == 1,:]\n",
        "\n",
        "\n",
        "    return bbox"
      ]
    },
    {
      "cell_type": "code",
      "execution_count": null,
      "metadata": {
        "id": "1r0MOByj2DMy"
      },
      "outputs": [],
      "source": [
        "def draw_rect(im, cords, color = None):\n",
        "    \"\"\"Draw the rectangle on the image\n",
        "\n",
        "    Parameters\n",
        "    ----------\n",
        "\n",
        "    im : numpy.ndarray\n",
        "        numpy image\n",
        "\n",
        "    cords: numpy.ndarray\n",
        "        Numpy array containing bounding boxes of shape `N X 4` where N is the\n",
        "        number of bounding boxes and the bounding boxes are represented in the\n",
        "        format `x1 y1 x2 y2`\n",
        "\n",
        "    Returns\n",
        "    -------\n",
        "\n",
        "    numpy.ndarray\n",
        "        numpy image with bounding boxes drawn on it\n",
        "\n",
        "    \"\"\"\n",
        "\n",
        "    im = im.copy()\n",
        "\n",
        "    cords = cords[:,:4]\n",
        "    cords = cords.reshape(-1,4)\n",
        "    if not color:\n",
        "        color = [255,255,255]\n",
        "    for cord in cords:\n",
        "\n",
        "        pt1, pt2 = (cord[0], cord[1]) , (cord[2], cord[3])\n",
        "\n",
        "        pt1 = int(pt1[0]), int(pt1[1])\n",
        "        pt2 = int(pt2[0]), int(pt2[1])\n",
        "\n",
        "        im = cv2.rectangle(im.copy(), pt1, pt2, color, int(max(im.shape[:2])/200))\n",
        "    return im"
      ]
    },
    {
      "cell_type": "code",
      "execution_count": null,
      "metadata": {
        "id": "NVQIL_hmD7r7"
      },
      "outputs": [],
      "source": [
        "class Rotate(object):\n",
        "    \"\"\"Rotates an image\n",
        "\n",
        "\n",
        "    Bounding boxes which have an area of less than 25% in the remaining in the\n",
        "    transformed image is dropped. The resolution is maintained, and the remaining\n",
        "    area if any is filled by black color.\n",
        "\n",
        "    Parameters\n",
        "    ----------\n",
        "    angle: float\n",
        "        The angle by which the image is to be rotated\n",
        "\n",
        "\n",
        "    Returns\n",
        "    -------\n",
        "\n",
        "    numpy.ndaaray\n",
        "        Rotated image in the numpy format of shape `HxWxC`\n",
        "\n",
        "    numpy.ndarray\n",
        "        Tranformed bounding box co-ordinates of the format `n x 4` where n is\n",
        "        number of bounding boxes and 4 represents `x1,y1,x2,y2` of the box\n",
        "\n",
        "    \"\"\"\n",
        "\n",
        "    def __init__(self, angle):\n",
        "        self.angle = angle\n",
        "\n",
        "\n",
        "    def __call__(self, img, bboxes):\n",
        "        \"\"\"\n",
        "        Args:\n",
        "            img (PIL Image): Image to be flipped.\n",
        "\n",
        "        Returns:\n",
        "            PIL Image: Randomly flipped image.\n",
        "\n",
        "\n",
        "        \"\"\"\n",
        "\n",
        "        angle = self.angle\n",
        "\n",
        "        w,h = img.shape[1], img.shape[0]\n",
        "        cx, cy = w//2, h//2\n",
        "\n",
        "        corners = get_corners(bboxes)\n",
        "\n",
        "        corners = np.hstack((corners, bboxes[:,4:]))\n",
        "\n",
        "        img = rotate_im(img, angle)\n",
        "        corners[:,:8] = rotate_box(corners[:,:8], angle, cx, cy, h, w)\n",
        "\n",
        "\n",
        "\n",
        "\n",
        "        new_bbox = get_enclosing_box(corners)\n",
        "\n",
        "\n",
        "        scale_factor_x = img.shape[1] / w\n",
        "\n",
        "        scale_factor_y = img.shape[0] / h\n",
        "\n",
        "        img = cv2.resize(img, (w,h))\n",
        "\n",
        "        new_bbox[:,:4] /= [scale_factor_x, scale_factor_y, scale_factor_x, scale_factor_y]\n",
        "\n",
        "\n",
        "        bboxes  = new_bbox\n",
        "\n",
        "        bboxes = clip_box(bboxes, [0,0,w, h], 0.25)\n",
        "\n",
        "        return img, bboxes"
      ]
    },
    {
      "cell_type": "code",
      "source": [
        "def check_for_class(pth):\n",
        "    with open(f'{pth[:-3]}txt'.replace('images', 'labels')) as f:\n",
        "        contents = f.readlines()\n",
        "        return contents[0][0]"
      ],
      "metadata": {
        "id": "RJroNite4wuK"
      },
      "execution_count": null,
      "outputs": []
    },
    {
      "cell_type": "code",
      "source": [
        "def xywhn_to_xyxy():\n",
        "    for pth in glob('/content/drive/MyDrive/финал/augmentation/train/labels/*.txt'):\n",
        "        with open(pth, \"rt\") as f:\n",
        "            x = np.array([[line.split()[0]] + [round(float(i) * 640) for i in line.split()[1:]] for line in f.readlines()])\n",
        "            f.close()\n",
        "        need = []\n",
        "        for line in x:\n",
        "            num_class = line[0]\n",
        "            x = np.array(list(map(int, line[1:])))\n",
        "            y = np.empty_like(x)\n",
        "            w = 640\n",
        "            h = 640\n",
        "            dw = x[..., 2] / 2\n",
        "            dh = x[..., 3] / 2\n",
        "            y[..., 0] = x[..., 0] - dw\n",
        "            y[..., 1] = x[..., 1] - dh\n",
        "            y[..., 2] = x[..., 0] + dw\n",
        "            y[..., 3] = x[..., 1] + dh\n",
        "            need.append([int(num_class), *y.tolist()])\n",
        "        with open(pth, \"w\") as f:\n",
        "            f.write('\\n'.join([' '.join([str(i) for i in line]) for line in need]))\n",
        "            f.close()"
      ],
      "metadata": {
        "id": "wxVPldoa4yJm"
      },
      "execution_count": null,
      "outputs": []
    },
    {
      "cell_type": "code",
      "source": [
        "def xyxy_to_xywhn():\n",
        "    for pth in glob('/content/drive/MyDrive/финал/augmentation/train/labels2/*.txt'):\n",
        "        with open(pth, \"rt\") as f:\n",
        "            x = np.array([[line.split()[0]] + [int(float(i)) for i in line.split()[1:]] for line in f.readlines()])\n",
        "            f.close()\n",
        "        need = []\n",
        "        for line in x:\n",
        "            num_class = line[0]\n",
        "            x = np.array(list(map(int, line[1:])))\n",
        "            y = np.empty_like(x)\n",
        "            y[..., 0] = ((x[..., 0] + x[..., 2]) / 2)\n",
        "            y[..., 1] = ((x[..., 1] + x[..., 3]) / 2)\n",
        "            y[..., 2] = (x[..., 2] - x[..., 0])\n",
        "            y[..., 3] = (x[..., 3] - x[..., 1])\n",
        "            need.append([int(num_class), *(y / 640).tolist()])\n",
        "        with open(pth, \"w\") as f:\n",
        "            f.write('\\n'.join([' '.join([str(i) for i in line]) for line in need]))\n",
        "            f.close()"
      ],
      "metadata": {
        "id": "F8xQ7c_KmJZu"
      },
      "execution_count": null,
      "outputs": []
    },
    {
      "cell_type": "markdown",
      "metadata": {
        "id": "KyJ4gTImRb_v"
      },
      "source": [
        "# Аугментация"
      ]
    },
    {
      "cell_type": "code",
      "source": [
        "# xywhn_to_xyxy()"
      ],
      "metadata": {
        "id": "jU4bQGHqnoqZ"
      },
      "execution_count": null,
      "outputs": []
    },
    {
      "cell_type": "code",
      "execution_count": null,
      "metadata": {
        "id": "9bgXTrzHYrwS"
      },
      "outputs": [],
      "source": [
        "paths = list(map(lambda x: '/content/drive/MyDrive/финал/augmentation/train/images/' + x, os.listdir('/content/drive/MyDrive/финал/augmentation/train/images')))"
      ]
    },
    {
      "cell_type": "code",
      "source": [
        "paths[0]"
      ],
      "metadata": {
        "colab": {
          "base_uri": "https://localhost:8080/",
          "height": 36
        },
        "id": "KHg0SYfxVVcw",
        "outputId": "0c85eba6-9ee3-464d-f73b-fcbc01366558"
      },
      "execution_count": null,
      "outputs": [
        {
          "output_type": "execute_result",
          "data": {
            "text/plain": [
              "'/content/drive/MyDrive/финал/augmentation/train/images-_-1_jpg.rf.95715c7480b376c793496dc2c32c9cef.jpg'"
            ],
            "application/vnd.google.colaboratory.intrinsic+json": {
              "type": "string"
            }
          },
          "metadata": {},
          "execution_count": 46
        }
      ]
    },
    {
      "cell_type": "code",
      "source": [
        "# print(len(os.listdir('/content/drive/MyDriveimages/')))\n",
        "print(len(paths))"
      ],
      "metadata": {
        "id": "lRML0tT1dsKP",
        "colab": {
          "base_uri": "https://localhost:8080/"
        },
        "outputId": "060e323a-266b-45d2-f415-68925b075320"
      },
      "execution_count": null,
      "outputs": [
        {
          "output_type": "stream",
          "name": "stdout",
          "text": [
            "101\n"
          ]
        }
      ]
    },
    {
      "cell_type": "code",
      "execution_count": null,
      "metadata": {
        "id": "4HTPil85YLel"
      },
      "outputs": [],
      "source": [
        "first = 0\n",
        "second = 0\n",
        "third = 0\n",
        "fourth = 0\n",
        "fifth = 0\n",
        "sixth = 0\n",
        "seventh = 0\n",
        "eighth = 0\n",
        "ninth = 0\n",
        "for num_photo, pth in enumerate(paths):\n",
        "    im = cv2.imread(pth)[:,:,::-1]\n",
        "\n",
        "    num_class = int(check_for_class(pth))\n",
        "\n",
        "    if num_class == 0:\n",
        "        first += 1\n",
        "        need = int(str(first)[:])\n",
        "    elif num_class == 1:\n",
        "        second += 1\n",
        "        need = int(str(second)[:])\n",
        "    elif num_class == 2:\n",
        "        third += 1\n",
        "        need = int(str(third)[:])\n",
        "    elif num_class == 3:\n",
        "        fourth += 1\n",
        "        need = int(str(fourth)[:])\n",
        "    elif num_class == 4:\n",
        "        fifth += 1\n",
        "        need = int(str(fifth)[:])\n",
        "    elif num_class == 5:\n",
        "        sixth += 1\n",
        "        need = int(str(sixth)[:])\n",
        "    elif num_class == 6:\n",
        "        seventh += 1\n",
        "        need = int(str(seventh)[:])\n",
        "    elif num_class == 7:\n",
        "        eighth += 1\n",
        "        need = int(str(eighth)[:])\n",
        "    elif num_class == 8:\n",
        "        ninth += 1\n",
        "        need = int(str(ninth)[:])\n",
        "    in_coor  = ['class','x1','y1','x2','y2']\n",
        "    out_coor = ['x1','y1','x2','y2','class']\n",
        "    with open(f'{pth[:-3]}txt'.replace('images', 'labels')) as f:\n",
        "        contents = f.readlines()\n",
        "        f.close()\n",
        "    data = list()\n",
        "    for line in (contents):\n",
        "        data.append([float(j) for j in line.split(' ')])\n",
        "    data_arr  = np.asarray(data)\n",
        "    in_order  = {j:i for i,j in enumerate(in_coor)}\n",
        "    sort_in   = [in_order[k] for k in in_coor]\n",
        "    sort_out  = [in_order[k] for k in out_coor]\n",
        "    bboxes = data_arr[:,sort_out]\n",
        "\n",
        "    for num_rotation, degree in enumerate(range(0, 360, 90)):\n",
        "        rotation = Rotate(degree)\n",
        "        new_img, new_bboxes = rotation(im, bboxes)\n",
        "\n",
        "        # plotted_img = draw_rect(new_img.copy(), new_bboxes.copy())\n",
        "        # plt.imshow(plotted_img)\n",
        "        # plt.show()\n",
        "\n",
        "        image = Image.fromarray(new_img, 'RGB')\n",
        "\n",
        "        for labeled in range(6):\n",
        "            with open(f'/content/drive/MyDrive/финал/augmentation/train/labels2/{num_class}_{need}_{num_rotation + 1}_{labeled}.txt', \"w\") as f:\n",
        "                f.write('\\n'.join([' '.join(list(map(str, [int(bbox[-1])] + [i for i in bbox[:-1]]))) for bbox in new_bboxes.tolist()]))\n",
        "                f.close()\n",
        "\n",
        "        tf.keras.preprocessing.image.save_img(f'/content/drive/MyDrive/финал/augmentation/train/images2/{num_class}_{need}_{num_rotation + 1}_{0}.jpg', image)\n",
        "\n",
        "        grayscaled = tf.image.rgb_to_grayscale(image)\n",
        "        tf.keras.preprocessing.image.save_img(f'/content/drive/MyDrive/финал/augmentation/train/images2/{num_class}_{need}_{num_rotation + 1}_{1}.jpg', grayscaled)\n",
        "\n",
        "        blured = cv2.GaussianBlur(new_img, (5, 5), cv2.BORDER_DEFAULT)\n",
        "        blured = Image.fromarray(blured, 'RGB')\n",
        "        tf.keras.preprocessing.image.save_img(f'/content/drive/MyDrive/финал/augmentation/train/images2/{num_class}_{need}_{num_rotation + 1}_{2}.jpg', blured)\n",
        "\n",
        "        gnoise = tf.random.normal(shape=tf.shape(image), mean=0.0, stddev=0.1, dtype=tf.float32)\n",
        "        image_type_converted = tf.image.convert_image_dtype(image, dtype=tf.float32, saturate=False)\n",
        "        noisy_image = tf.add(image_type_converted, gnoise)\n",
        "        tf.keras.preprocessing.image.save_img(f'/content/drive/MyDrive/финал/augmentation/train/images2/{num_class}_{need}_{num_rotation + 1}_{3}.jpg', noisy_image)\n",
        "\n",
        "        brighted = tf.image.adjust_brightness(image, 0.25)\n",
        "        tf.keras.preprocessing.image.save_img(f'/content/drive/MyDrive/финал/augmentation/train/images2/{num_class}_{need}_{num_rotation + 1}_{4}.jpg', brighted)\n",
        "\n",
        "        saturated = tf.image.adjust_saturation(image, 4)\n",
        "        tf.keras.preprocessing.image.save_img(f'/content/drive/MyDrive/финал/augmentation/train/images2/{num_class}_{need}_{num_rotation + 1}_{5}.jpg', saturated)"
      ]
    },
    {
      "cell_type": "code",
      "source": [
        "xyxy_to_xywhn()"
      ],
      "metadata": {
        "id": "KU6RZ9pqmGaq"
      },
      "execution_count": null,
      "outputs": []
    },
    {
      "cell_type": "code",
      "source": [
        "print(len(os.listdir('/content/drive/MyDrive/финал/augmentation/train/labels2')))"
      ],
      "metadata": {
        "colab": {
          "base_uri": "https://localhost:8080/"
        },
        "id": "hjUHXcL9gHmY",
        "outputId": "300f5e73-9b77-4162-e611-9fea1c7c93c3"
      },
      "execution_count": null,
      "outputs": [
        {
          "output_type": "stream",
          "name": "stdout",
          "text": [
            "2424\n"
          ]
        }
      ]
    },
    {
      "cell_type": "code",
      "source": [
        "# В папке images2 - аугментированные фотки сорняков\n",
        "# В папке labels2 - аугментированные разметки сорняков"
      ],
      "metadata": {
        "id": "Vk5nAb1VhsXB"
      },
      "execution_count": null,
      "outputs": []
    }
  ],
  "metadata": {
    "anaconda-cloud": {},
    "colab": {
      "collapsed_sections": [
        "8XAIrXEN6X6i",
        "ppuDZwmDzLwW",
        "yI6J7mczRXIn"
      ],
      "provenance": [],
      "gpuType": "T4"
    },
    "kernelspec": {
      "display_name": "Python 3",
      "name": "python3"
    },
    "language_info": {
      "name": "python"
    },
    "accelerator": "GPU"
  },
  "nbformat": 4,
  "nbformat_minor": 0
}